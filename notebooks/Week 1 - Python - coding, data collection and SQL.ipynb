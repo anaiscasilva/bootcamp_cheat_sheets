{
 "cells": [
  {
   "cell_type": "markdown",
   "id": "829a1e93",
   "metadata": {},
   "source": [
    "# Basics of coding - Python"
   ]
  },
  {
   "cell_type": "markdown",
   "id": "a6b095d5",
   "metadata": {},
   "source": [
    "## Terminal:"
   ]
  },
  {
   "cell_type": "markdown",
   "id": "3b1c27c8",
   "metadata": {},
   "source": [
    "* Check which files have been changed since the last commit and make sure that our working directory is clean"
   ]
  },
  {
   "cell_type": "code",
   "execution_count": null,
   "id": "260b0f1c",
   "metadata": {},
   "outputs": [],
   "source": [
    "git status"
   ]
  },
  {
   "cell_type": "markdown",
   "id": "8543095f",
   "metadata": {},
   "source": [
    "* Check what has changed in the file:"
   ]
  },
  {
   "cell_type": "code",
   "execution_count": null,
   "id": "d8643d52",
   "metadata": {},
   "outputs": [],
   "source": [
    "git diff"
   ]
  },
  {
   "cell_type": "markdown",
   "id": "6bc7c8d1",
   "metadata": {},
   "source": [
    "* Pushing to Github:"
   ]
  },
  {
   "cell_type": "code",
   "execution_count": null,
   "id": "fa320582",
   "metadata": {},
   "outputs": [],
   "source": [
    "git add file.py\n",
    "git commit -m \"add file\"\n",
    "git push origin master"
   ]
  },
  {
   "cell_type": "markdown",
   "id": "3face5d3",
   "metadata": {},
   "source": [
    "* Command that writes the full pathname of the current working directory:"
   ]
  },
  {
   "cell_type": "code",
   "execution_count": 4,
   "id": "aa92af23",
   "metadata": {},
   "outputs": [
    {
     "name": "stdout",
     "output_type": "stream",
     "text": [
      "/home/isa/code/anaiscasilva/Cheat sheet of Bootcamp\r\n"
     ]
    }
   ],
   "source": [
    "!pwd "
   ]
  },
  {
   "cell_type": "markdown",
   "id": "fc1d0cb0",
   "metadata": {},
   "source": [
    "* Explore the folder"
   ]
  },
  {
   "cell_type": "code",
   "execution_count": 5,
   "id": "e1e498ca",
   "metadata": {},
   "outputs": [
    {
     "name": "stdout",
     "output_type": "stream",
     "text": [
      "total 4\r\n",
      "-rw-r--r-- 1 isa isa 3679 Oct  1 13:00 'Week 1.ipynb'\r\n"
     ]
    }
   ],
   "source": [
    "!ls -l"
   ]
  },
  {
   "cell_type": "markdown",
   "id": "1499b27f",
   "metadata": {},
   "source": [
    "* Create a folder"
   ]
  },
  {
   "cell_type": "code",
   "execution_count": null,
   "id": "24d295c0",
   "metadata": {},
   "outputs": [],
   "source": [
    "mkdir <directory>"
   ]
  },
  {
   "cell_type": "markdown",
   "id": "4c9f7cda",
   "metadata": {},
   "source": [
    "* Go to a folder"
   ]
  },
  {
   "cell_type": "code",
   "execution_count": null,
   "id": "5dff6bf0",
   "metadata": {},
   "outputs": [],
   "source": [
    "cd <path>"
   ]
  },
  {
   "cell_type": "markdown",
   "id": "c659da71",
   "metadata": {},
   "source": [
    "* Create a Python file:"
   ]
  },
  {
   "cell_type": "code",
   "execution_count": null,
   "id": "d6a9432f",
   "metadata": {},
   "outputs": [],
   "source": [
    "touch <file>"
   ]
  },
  {
   "cell_type": "markdown",
   "id": "9bc7cd5c",
   "metadata": {},
   "source": [
    "* Remove and move to a folder"
   ]
  },
  {
   "cell_type": "code",
   "execution_count": null,
   "id": "dd64d93a",
   "metadata": {},
   "outputs": [],
   "source": [
    "rm <file> # rm -r <directory>\n",
    "mv <from> <to>"
   ]
  },
  {
   "cell_type": "markdown",
   "id": "8cdb41a2",
   "metadata": {},
   "source": [
    "* Interactive Python shell on terminal:"
   ]
  },
  {
   "cell_type": "code",
   "execution_count": null,
   "id": "bc50ca33",
   "metadata": {},
   "outputs": [],
   "source": [
    "ipython "
   ]
  },
  {
   "cell_type": "markdown",
   "id": "b4a19b2d",
   "metadata": {},
   "source": [
    "## Coding:"
   ]
  },
  {
   "cell_type": "markdown",
   "id": "6db486e0",
   "metadata": {},
   "source": [
    "\n",
    "\n",
    "During this first week, we will tackle the following challenges:\n",
    "\n",
    "* Writing code with Python: variables, conditions, loops, list, dict, etc.\n",
    "* Data collection: gather the data from different sources (CSV, API, Scraping)\n",
    "* SQL: a lot can already be achieved at the database level, before relying on Python to sort data. Let’s dive into some advanced queries!\n",
    "\n"
   ]
  },
  {
   "cell_type": "markdown",
   "id": "debb63d0",
   "metadata": {},
   "source": [
    "* Funtion:"
   ]
  },
  {
   "cell_type": "code",
   "execution_count": 6,
   "id": "6a2c5fb1",
   "metadata": {},
   "outputs": [
    {
     "data": {
      "text/plain": [
       "5"
      ]
     },
     "execution_count": 6,
     "metadata": {},
     "output_type": "execute_result"
    }
   ],
   "source": [
    "# Function:\n",
    "\n",
    "def xxxx(a):\n",
    "    \"\"\"docstring\"\"\"\n",
    "    return a\n",
    "\n",
    "xxxx(5)"
   ]
  },
  {
   "cell_type": "code",
   "execution_count": null,
   "id": "a12080d8",
   "metadata": {},
   "outputs": [],
   "source": []
  },
  {
   "cell_type": "code",
   "execution_count": null,
   "id": "fafb4214",
   "metadata": {},
   "outputs": [],
   "source": []
  },
  {
   "cell_type": "code",
   "execution_count": null,
   "id": "0448710b",
   "metadata": {},
   "outputs": [],
   "source": []
  },
  {
   "cell_type": "code",
   "execution_count": null,
   "id": "1eaf32d2",
   "metadata": {},
   "outputs": [],
   "source": []
  }
 ],
 "metadata": {
  "kernelspec": {
   "display_name": "Python 3 (ipykernel)",
   "language": "python",
   "name": "python3"
  },
  "language_info": {
   "codemirror_mode": {
    "name": "ipython",
    "version": 3
   },
   "file_extension": ".py",
   "mimetype": "text/x-python",
   "name": "python",
   "nbconvert_exporter": "python",
   "pygments_lexer": "ipython3",
   "version": "3.8.6"
  },
  "toc": {
   "base_numbering": 1,
   "nav_menu": {},
   "number_sections": true,
   "sideBar": true,
   "skip_h1_title": false,
   "title_cell": "Table of Contents",
   "title_sidebar": "Contents",
   "toc_cell": false,
   "toc_position": {},
   "toc_section_display": true,
   "toc_window_display": false
  }
 },
 "nbformat": 4,
 "nbformat_minor": 5
}

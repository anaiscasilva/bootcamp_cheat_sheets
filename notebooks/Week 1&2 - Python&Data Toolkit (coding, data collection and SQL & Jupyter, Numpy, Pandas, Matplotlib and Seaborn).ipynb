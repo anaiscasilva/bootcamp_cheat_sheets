{
 "cells": [
  {
   "cell_type": "markdown",
   "id": "829a1e93",
   "metadata": {},
   "source": [
    "# Basics of coding - Python"
   ]
  },
  {
   "cell_type": "markdown",
   "id": "a6b095d5",
   "metadata": {},
   "source": [
    "## Terminal:"
   ]
  },
  {
   "cell_type": "markdown",
   "id": "3b1c27c8",
   "metadata": {},
   "source": [
    "* Check which files have been changed since the last commit and make sure that our working directory is clean"
   ]
  },
  {
   "cell_type": "code",
   "execution_count": null,
   "id": "260b0f1c",
   "metadata": {},
   "outputs": [],
   "source": [
    "git status"
   ]
  },
  {
   "cell_type": "markdown",
   "id": "8543095f",
   "metadata": {},
   "source": [
    "* Check what has changed in the file:"
   ]
  },
  {
   "cell_type": "code",
   "execution_count": null,
   "id": "d8643d52",
   "metadata": {},
   "outputs": [],
   "source": [
    "git diff"
   ]
  },
  {
   "cell_type": "markdown",
   "id": "6bc7c8d1",
   "metadata": {},
   "source": [
    "* Pushing to Github:"
   ]
  },
  {
   "cell_type": "code",
   "execution_count": null,
   "id": "fa320582",
   "metadata": {},
   "outputs": [],
   "source": [
    "git add file.py\n",
    "git commit -m \"add file\"\n",
    "git push origin master"
   ]
  },
  {
   "cell_type": "markdown",
   "id": "3face5d3",
   "metadata": {},
   "source": [
    "* Command that writes the full pathname of the current working directory:"
   ]
  },
  {
   "cell_type": "code",
   "execution_count": 4,
   "id": "aa92af23",
   "metadata": {},
   "outputs": [
    {
     "name": "stdout",
     "output_type": "stream",
     "text": [
      "/home/isa/code/anaiscasilva/Cheat sheet of Bootcamp\r\n"
     ]
    }
   ],
   "source": [
    "!pwd "
   ]
  },
  {
   "cell_type": "markdown",
   "id": "fc1d0cb0",
   "metadata": {},
   "source": [
    "* Explore the folder"
   ]
  },
  {
   "cell_type": "code",
   "execution_count": 5,
   "id": "e1e498ca",
   "metadata": {},
   "outputs": [
    {
     "name": "stdout",
     "output_type": "stream",
     "text": [
      "total 4\r\n",
      "-rw-r--r-- 1 isa isa 3679 Oct  1 13:00 'Week 1.ipynb'\r\n"
     ]
    }
   ],
   "source": [
    "!ls -l"
   ]
  },
  {
   "cell_type": "markdown",
   "id": "1499b27f",
   "metadata": {},
   "source": [
    "* Create a folder"
   ]
  },
  {
   "cell_type": "code",
   "execution_count": null,
   "id": "24d295c0",
   "metadata": {},
   "outputs": [],
   "source": [
    "mkdir <directory>"
   ]
  },
  {
   "cell_type": "markdown",
   "id": "4c9f7cda",
   "metadata": {},
   "source": [
    "* Go to a folder"
   ]
  },
  {
   "cell_type": "code",
   "execution_count": null,
   "id": "5dff6bf0",
   "metadata": {},
   "outputs": [],
   "source": [
    "cd <path>"
   ]
  },
  {
   "cell_type": "markdown",
   "id": "c659da71",
   "metadata": {},
   "source": [
    "* Create a Python file:"
   ]
  },
  {
   "cell_type": "code",
   "execution_count": null,
   "id": "d6a9432f",
   "metadata": {},
   "outputs": [],
   "source": [
    "touch <file>"
   ]
  },
  {
   "cell_type": "markdown",
   "id": "9bc7cd5c",
   "metadata": {},
   "source": [
    "* Remove and move to a folder"
   ]
  },
  {
   "cell_type": "code",
   "execution_count": null,
   "id": "dd64d93a",
   "metadata": {},
   "outputs": [],
   "source": [
    "rm <file> # rm -r <directory>\n",
    "mv <from> <to>"
   ]
  },
  {
   "cell_type": "markdown",
   "id": "8cdb41a2",
   "metadata": {},
   "source": [
    "* Interactive Python shell on terminal:"
   ]
  },
  {
   "cell_type": "code",
   "execution_count": null,
   "id": "bc50ca33",
   "metadata": {},
   "outputs": [],
   "source": [
    "ipython "
   ]
  },
  {
   "cell_type": "markdown",
   "id": "6db486e0",
   "metadata": {},
   "source": [
    "\n",
    "\n",
    "During this first week, we will tackle the following challenges:\n",
    "\n",
    "* Writing code with Python: variables, conditions, loops, list, dict, etc.\n",
    "* Data collection: gather the data from different sources (CSV, API, Scraping)\n",
    "* SQL: a lot can already be achieved at the database level, before relying on Python to sort data. Let’s dive into some advanced queries!\n",
    "\n"
   ]
  },
  {
   "cell_type": "markdown",
   "id": "c27a160e",
   "metadata": {},
   "source": [
    "## Create a new Git Repo"
   ]
  },
  {
   "cell_type": "code",
   "execution_count": null,
   "id": "81ce1204",
   "metadata": {},
   "outputs": [],
   "source": [
    "mkdir <repo>\n",
    "cd <repo>\n",
    "git init \n",
    "gh repo create"
   ]
  },
  {
   "cell_type": "markdown",
   "id": "d4c97724",
   "metadata": {},
   "source": [
    "* Setting up the new Git Repo"
   ]
  },
  {
   "cell_type": "code",
   "execution_count": null,
   "id": "1eaf32d2",
   "metadata": {},
   "outputs": [],
   "source": [
    "##...or Create a new repository on the command line\n",
    "\n",
    "touch README.md\n",
    "echo \"# test\" >> README.md\n",
    "git init\n",
    "git add README.md\n",
    "git commit -m \"first commit\"\n",
    "?git branch -M main\n",
    "git remote add origin git@github.com:anaiscasilva/<reponame>.git\n",
    "git push -u origin master\n",
    "\n",
    "##...or Push an existing repository from the command line\n",
    "\n",
    "git remote add origin git@github.com:anaiscasilva/<reponame>.git\n",
    "?git branch -M main\n",
    "git push -u origin master\n"
   ]
  },
  {
   "cell_type": "markdown",
   "id": "b4a19b2d",
   "metadata": {},
   "source": [
    "## Python for Data Science - Coding:"
   ]
  },
  {
   "cell_type": "code",
   "execution_count": 2,
   "id": "6a2c5fb1",
   "metadata": {},
   "outputs": [
    {
     "data": {
      "text/plain": [
       "5"
      ]
     },
     "execution_count": 2,
     "metadata": {},
     "output_type": "execute_result"
    }
   ],
   "source": [
    "# Function:\n",
    "\n",
    "def xxxx(a):\n",
    "    \"\"\"docstring\"\"\"\n",
    "    return a\n",
    "\n",
    "xxxx(5)"
   ]
  },
  {
   "cell_type": "code",
   "execution_count": 1,
   "id": "c13c7906",
   "metadata": {},
   "outputs": [
    {
     "name": "stdout",
     "output_type": "stream",
     "text": [
      "['CAT', 'WOLF', 'BEAR']\n"
     ]
    }
   ],
   "source": [
    "# List comprehension:\n",
    "\n",
    "words = ['cat', 'wolf', 'bear']\n",
    "\n",
    "uppercase_words = [word.upper() for word in words]\n",
    "print(uppercase_words)"
   ]
  },
  {
   "cell_type": "code",
   "execution_count": 2,
   "id": "3429e56d",
   "metadata": {},
   "outputs": [
    {
     "name": "stdout",
     "output_type": "stream",
     "text": [
      "0 cat\n",
      "1 wolf\n",
      "2 bear\n"
     ]
    }
   ],
   "source": [
    "# for loop on a list:\n",
    "\n",
    "for index, word in enumerate(words):\n",
    "    print(index, word)\n"
   ]
  },
  {
   "cell_type": "code",
   "execution_count": 4,
   "id": "f77087d7",
   "metadata": {},
   "outputs": [
    {
     "name": "stdout",
     "output_type": "stream",
     "text": [
      "The Cat is orange\n",
      "The Dog is black\n"
     ]
    }
   ],
   "source": [
    "# for loop on a dic:\n",
    "\n",
    "animals = {'cat': 'orange', 'dog': 'black'}\n",
    "\n",
    "for animal, color in animals.items():\n",
    "    print(f'The {animal.capitalize()} is {color}')"
   ]
  },
  {
   "cell_type": "code",
   "execution_count": 5,
   "id": "515bccd4",
   "metadata": {},
   "outputs": [
    {
     "name": "stdout",
     "output_type": "stream",
     "text": [
      "1\n",
      "2\n",
      "3\n"
     ]
    }
   ],
   "source": [
    "#While loop:\n",
    "\n",
    "i = 1\n",
    "while i <= 3:\n",
    "    print(i)\n",
    "    i = i + 1"
   ]
  },
  {
   "cell_type": "code",
   "execution_count": 9,
   "id": "4aca8bb9",
   "metadata": {},
   "outputs": [],
   "source": [
    "# Debugging:\n",
    "\n",
    "def full_name(first_name, last_name):\n",
    "    \"\"\"returns the full name\"\"\"\n",
    "    name = f\"{first_name.capitalize()}{last_name.capitalize()}\"\n",
    "    # Uncomment the line below and run your code to see the debugger in action\n",
    "    import ipdb; ipdb.set_trace()\n",
    "    name = f\"{first_name.capitalize()} {last_name.capitalize()}\".strip()\n",
    "    return name"
   ]
  },
  {
   "cell_type": "code",
   "execution_count": 11,
   "id": "381d081b",
   "metadata": {
    "scrolled": true
   },
   "outputs": [
    {
     "name": "stdout",
     "output_type": "stream",
     "text": [
      "> \u001b[0;32m/tmp/ipykernel_9297/1950436766.py\u001b[0m(6)\u001b[0;36mfull_name\u001b[0;34m()\u001b[0m\n",
      "\u001b[0;32m      5 \u001b[0;31m    \u001b[0;32mimport\u001b[0m \u001b[0mipdb\u001b[0m\u001b[0;34m;\u001b[0m \u001b[0mipdb\u001b[0m\u001b[0;34m.\u001b[0m\u001b[0mset_trace\u001b[0m\u001b[0;34m(\u001b[0m\u001b[0;34m)\u001b[0m\u001b[0;34m\u001b[0m\u001b[0;34m\u001b[0m\u001b[0m\n",
      "\u001b[0m\u001b[0;32m----> 6 \u001b[0;31m    \u001b[0mname\u001b[0m \u001b[0;34m=\u001b[0m \u001b[0;34mf\"{first_name.capitalize()} {last_name.capitalize()}\"\u001b[0m\u001b[0;34m.\u001b[0m\u001b[0mstrip\u001b[0m\u001b[0;34m(\u001b[0m\u001b[0;34m)\u001b[0m\u001b[0;34m\u001b[0m\u001b[0;34m\u001b[0m\u001b[0m\n",
      "\u001b[0m\u001b[0;32m      7 \u001b[0;31m    \u001b[0;32mreturn\u001b[0m \u001b[0mname\u001b[0m\u001b[0;34m\u001b[0m\u001b[0;34m\u001b[0m\u001b[0m\n",
      "\u001b[0m\n",
      "ipdb> next\n",
      "> \u001b[0;32m/tmp/ipykernel_9297/1950436766.py\u001b[0m(7)\u001b[0;36mfull_name\u001b[0;34m()\u001b[0m\n",
      "\u001b[0;32m      5 \u001b[0;31m    \u001b[0;32mimport\u001b[0m \u001b[0mipdb\u001b[0m\u001b[0;34m;\u001b[0m \u001b[0mipdb\u001b[0m\u001b[0;34m.\u001b[0m\u001b[0mset_trace\u001b[0m\u001b[0;34m(\u001b[0m\u001b[0;34m)\u001b[0m\u001b[0;34m\u001b[0m\u001b[0;34m\u001b[0m\u001b[0m\n",
      "\u001b[0m\u001b[0;32m      6 \u001b[0;31m    \u001b[0mname\u001b[0m \u001b[0;34m=\u001b[0m \u001b[0;34mf\"{first_name.capitalize()} {last_name.capitalize()}\"\u001b[0m\u001b[0;34m.\u001b[0m\u001b[0mstrip\u001b[0m\u001b[0;34m(\u001b[0m\u001b[0;34m)\u001b[0m\u001b[0;34m\u001b[0m\u001b[0;34m\u001b[0m\u001b[0m\n",
      "\u001b[0m\u001b[0;32m----> 7 \u001b[0;31m    \u001b[0;32mreturn\u001b[0m \u001b[0mname\u001b[0m\u001b[0;34m\u001b[0m\u001b[0;34m\u001b[0m\u001b[0m\n",
      "\u001b[0m\n",
      "ipdb> continue\n"
     ]
    },
    {
     "data": {
      "text/plain": [
       "'Isa Silva'"
      ]
     },
     "execution_count": 11,
     "metadata": {},
     "output_type": "execute_result"
    }
   ],
   "source": [
    "full_name('isa', 'silva')"
   ]
  },
  {
   "cell_type": "code",
   "execution_count": null,
   "id": "0961073f",
   "metadata": {},
   "outputs": [],
   "source": [
    "# ipython debugger\n",
    "import ipdb; ipdb.set_trace()\n",
    "\n",
    ">>> s (step into)\n",
    ">>> n (next = step over)\n",
    ">>> c (continue to next error)\n",
    ">>> u (up stack trace), d(down)\n",
    ">>> return (continue until current function return)\n",
    ">>> l (provide more context)\n",
    ">>> q (quit) or exit"
   ]
  },
  {
   "cell_type": "markdown",
   "id": "1b33d05b",
   "metadata": {},
   "source": [
    "## Data Sourcing"
   ]
  },
  {
   "cell_type": "markdown",
   "id": "e5ae63a7",
   "metadata": {},
   "source": [
    "### CSV"
   ]
  },
  {
   "cell_type": "markdown",
   "id": "87099748",
   "metadata": {},
   "source": [
    "* CSV Reading"
   ]
  },
  {
   "cell_type": "code",
   "execution_count": null,
   "id": "68e4d3d8",
   "metadata": {},
   "outputs": [],
   "source": [
    "import csv\n",
    "with open('data/file.csv') as csvfile:\n",
    "    reader = csv.reader(csvfile, skipinitialspace=True)"
   ]
  },
  {
   "cell_type": "markdown",
   "id": "291709e4",
   "metadata": {},
   "source": [
    "* CSV with Headers"
   ]
  },
  {
   "cell_type": "code",
   "execution_count": null,
   "id": "3d19fcf1",
   "metadata": {},
   "outputs": [],
   "source": [
    "import csv\n",
    "\n",
    "with open('data/file.csv') as csvfile:\n",
    "    reader = csv.DictReader(csvfile, skipinitialspace=True)"
   ]
  },
  {
   "cell_type": "markdown",
   "id": "c9adc4df",
   "metadata": {},
   "source": [
    "* Writing a CSV"
   ]
  },
  {
   "cell_type": "code",
   "execution_count": null,
   "id": "4a506457",
   "metadata": {},
   "outputs": [],
   "source": [
    "import csv\n",
    "\n",
    "with open('data/file.csv', 'w') as csvfile:\n",
    "    writer = csv.DictWriter(csvfile, fieldnames=file[0].keys())"
   ]
  },
  {
   "cell_type": "markdown",
   "id": "c49e28f0",
   "metadata": {},
   "source": [
    "### CSV with Pandas"
   ]
  },
  {
   "cell_type": "code",
   "execution_count": null,
   "id": "dd7b7004",
   "metadata": {},
   "outputs": [],
   "source": [
    "pd.read_csv('data/file.csv')"
   ]
  },
  {
   "cell_type": "markdown",
   "id": "b4aa282b",
   "metadata": {},
   "source": [
    "### API"
   ]
  },
  {
   "cell_type": "markdown",
   "id": "5ca99df3",
   "metadata": {},
   "source": [
    "* HPPT requests"
   ]
  },
  {
   "cell_type": "code",
   "execution_count": 6,
   "id": "5305cb5b",
   "metadata": {},
   "outputs": [
    {
     "name": "stdout",
     "output_type": "stream",
     "text": [
      "Isa Silva\n"
     ]
    }
   ],
   "source": [
    "import requests\n",
    "\n",
    "url = 'https://api.github.com/users/anaiscasilva'\n",
    "response = requests.get(url).json()\n",
    "\n",
    "print(response['name'])"
   ]
  },
  {
   "cell_type": "code",
   "execution_count": 21,
   "id": "cad60897",
   "metadata": {},
   "outputs": [
    {
     "data": {
      "text/plain": [
       "\"The club isn't the best place to find a lover\\nSo the bar is where I go\""
      ]
     },
     "execution_count": 21,
     "metadata": {},
     "output_type": "execute_result"
    }
   ],
   "source": [
    "import requests\n",
    "\n",
    "def fetch_lyrics(artists, title):\n",
    "    \"\"\"\n",
    "    Get lyrics from Seeds Lyrics API. Returns empty string if song not found\n",
    "    \"\"\"\n",
    "    url = f'https://lyrics.lewagon.ai/search?artist={artists}&title={title}'\n",
    "    response = requests.get(url)\n",
    "    if response.status_code != 200:\n",
    "        return ''\n",
    "    data = response.json()\n",
    "    return data['lyrics']\n",
    "fetch_lyrics('Ed sheeran', 'shape of you')[0:70]"
   ]
  },
  {
   "cell_type": "code",
   "execution_count": null,
   "id": "5d5a9d94",
   "metadata": {},
   "outputs": [],
   "source": []
  },
  {
   "cell_type": "markdown",
   "id": "fec346e9",
   "metadata": {},
   "source": [
    "* Typical Web Scraper with BeautifulSoup"
   ]
  },
  {
   "cell_type": "code",
   "execution_count": 7,
   "id": "030d4548",
   "metadata": {},
   "outputs": [],
   "source": [
    "import requests\n",
    "from bs4 import BeautifulSoup\n",
    "\n",
    "response = requests.get(url)\n",
    "soup = BeautifulSoup(response.content, \"html.parser\")"
   ]
  },
  {
   "cell_type": "markdown",
   "id": "3a7255c7",
   "metadata": {},
   "source": [
    "## SQL Basics "
   ]
  },
  {
   "cell_type": "markdown",
   "id": "0ce1c863",
   "metadata": {},
   "source": [
    "We used SQLite: A database stored in a single file."
   ]
  },
  {
   "cell_type": "markdown",
   "id": "6d8bec89",
   "metadata": {},
   "source": [
    "### Querying the Database"
   ]
  },
  {
   "cell_type": "markdown",
   "id": "3ee86d71",
   "metadata": {},
   "source": [
    "* With DBeaver"
   ]
  },
  {
   "cell_type": "code",
   "execution_count": null,
   "id": "e9c400cf",
   "metadata": {},
   "outputs": [],
   "source": [
    "SELECT * FROM Country"
   ]
  },
  {
   "cell_type": "code",
   "execution_count": null,
   "id": "d4748d9b",
   "metadata": {},
   "outputs": [],
   "source": [
    "SELECT COUNT(matches.id) AS match_count, matches.country_id\n",
    "FROM \"Match\" AS matches\n",
    "GROUP BY matches.country_id\n",
    "HAVING match_count >= 3000\n",
    "ORDER BY match_count DESC"
   ]
  },
  {
   "cell_type": "code",
   "execution_count": null,
   "id": "75597162",
   "metadata": {},
   "outputs": [],
   "source": [
    "SELECT League.name, Country.name\n",
    "FROM League\n",
    "JOIN Country ON League.country_id = Country.id"
   ]
  },
  {
   "cell_type": "markdown",
   "id": "81f58d03",
   "metadata": {},
   "source": [
    "* With Python"
   ]
  },
  {
   "cell_type": "code",
   "execution_count": null,
   "id": "354290e5",
   "metadata": {},
   "outputs": [],
   "source": [
    "import sqlite3\n",
    "\n",
    "conn = sqlite3.connect('data/file.sqlite')\n",
    "c = conn.cursor()\n",
    "\n",
    "c.execute(\"SELECT * FROM Country\")\n",
    "rows = c.fetchall()\n",
    "rows"
   ]
  },
  {
   "cell_type": "markdown",
   "id": "8cfff8cd",
   "metadata": {},
   "source": [
    "## SQL Advanced"
   ]
  },
  {
   "cell_type": "code",
   "execution_count": null,
   "id": "b8ee287d",
   "metadata": {},
   "outputs": [],
   "source": [
    "import sqlite3\n",
    "\n",
    "conn = sqlite3.connect('data/file_db.sqlite')\n",
    "c = conn.cursor()\n",
    "\n",
    "def connect_safe(username, password):\n",
    "  query = \"\"\"\n",
    "    SELECT *\n",
    "    FROM users\n",
    "    WHERE users.username = ?\n",
    "    AND users.password = ?\n",
    "  \"\"\"\n",
    "  c.execute(query, (username, password))\n",
    "  user = c.fetchone()\n",
    "  if user is None:\n",
    "    return \"Unauthorized\"\n",
    "  else:\n",
    "    return \"Authorized\""
   ]
  },
  {
   "cell_type": "markdown",
   "id": "99dad0dd",
   "metadata": {},
   "source": [
    "..."
   ]
  },
  {
   "cell_type": "markdown",
   "id": "b9401c58",
   "metadata": {},
   "source": [
    "### with pandas:"
   ]
  },
  {
   "cell_type": "code",
   "execution_count": null,
   "id": "8ff90d33",
   "metadata": {},
   "outputs": [],
   "source": [
    "df = pd.read_sql(\n",
    "    '''\n",
    "    SELECT *\n",
    "    FROM animal a\n",
    "    JOIN owners o ON o.id = a.owner_id\n",
    "    ''', conn)"
   ]
  },
  {
   "cell_type": "markdown",
   "id": "27dba41b",
   "metadata": {},
   "source": [
    "## Google BigQuery"
   ]
  },
  {
   "cell_type": "code",
   "execution_count": null,
   "id": "6095d4b9",
   "metadata": {},
   "outputs": [],
   "source": [
    "!pip install --quiet pandas-gbq"
   ]
  },
  {
   "cell_type": "code",
   "execution_count": null,
   "id": "9d05b9a9",
   "metadata": {},
   "outputs": [],
   "source": [
    "import pandas_gbq"
   ]
  },
  {
   "cell_type": "code",
   "execution_count": null,
   "id": "c2f051a4",
   "metadata": {},
   "outputs": [],
   "source": [
    "sql = \"\"\"\n",
    "    SELECT *\n",
    "    FROM animal a\n",
    "    JOIN owners o ON o.id = a.owner_id\n",
    "    \"\"\"\n",
    "df = pandas_gbq.read_gbq(sql, project_id=project_id)"
   ]
  },
  {
   "cell_type": "markdown",
   "id": "b81a97dc",
   "metadata": {},
   "source": [
    "# Data Toolkit"
   ]
  },
  {
   "cell_type": "markdown",
   "id": "f1d340d4",
   "metadata": {},
   "source": [
    "## Jupyter notebook shortcuts"
   ]
  },
  {
   "cell_type": "markdown",
   "id": "94e0e6bc",
   "metadata": {},
   "source": [
    "Outside the cell (Command Mode):"
   ]
  },
  {
   "cell_type": "code",
   "execution_count": null,
   "id": "86dfdb14",
   "metadata": {},
   "outputs": [],
   "source": [
    "H: show all shortcuts\n",
    "A : insert cell above\n",
    "B : insert cell below\n",
    "X : cut selected cells\n",
    "C : copy selected cells\n",
    "Shift + Enter: run the current cell, select below\n",
    "Ctrl + S: save and checkpoint\n",
    "Shift+Up : extend selected cells above\n",
    "Shift+Down : extend selected cells below\n",
    "Ctrl+A : select all cells\n",
    "Shift-V : paste cells above\n",
    "V : paste cells below\n",
    "Z : undo cell deletion\n",
    "D,D : delete selected cells\n",
    "Shift+M : merge selected cells, or current cell with cell below if only one cell is selected\n",
    "Shift+Space : scroll notebook up\n",
    "Space : scroll notebook down\n",
    "Esc : escape edit mode\n",
    "Enter : enter edit mode\n",
    "Y : change cell to code\n",
    "M : change cell to markdown"
   ]
  },
  {
   "cell_type": "markdown",
   "id": "b269b83b",
   "metadata": {},
   "source": [
    "Inside the cell (Edit Mode):"
   ]
  },
  {
   "cell_type": "code",
   "execution_count": null,
   "id": "3baeece0",
   "metadata": {},
   "outputs": [],
   "source": [
    "Ctrl+A : select all\n",
    "Ctrl+Z : undo\n",
    "Ctrl+Up : go to cell start\n",
    "Ctrl+End : go to cell end\n",
    "Ctrl+Backspace : delete word before\n",
    "Ctrl+Delete : delete word after\n",
    "Ctrl+Y : redo\n",
    "Esc : enter command mode\n",
    "Shift+Enter : run cell, select below"
   ]
  },
  {
   "cell_type": "markdown",
   "id": "3b54f8a7",
   "metadata": {},
   "source": [
    "### Extract the Python code to Notebook: "
   ]
  },
  {
   "cell_type": "code",
   "execution_count": null,
   "id": "3a061814",
   "metadata": {},
   "outputs": [],
   "source": [
    "%load_ext autoreload\n",
    "%autoreload 2"
   ]
  },
  {
   "cell_type": "code",
   "execution_count": 25,
   "id": "b5646c1d",
   "metadata": {},
   "outputs": [],
   "source": [
    "# animals.py\n",
    "\n",
    "def animal(x):\n",
    "    return x\n"
   ]
  },
  {
   "cell_type": "code",
   "execution_count": 27,
   "id": "8794f50f",
   "metadata": {},
   "outputs": [
    {
     "data": {
      "text/plain": [
       "'zz'"
      ]
     },
     "execution_count": 27,
     "metadata": {},
     "output_type": "execute_result"
    }
   ],
   "source": [
    "from animals import animal\n",
    "animal('zz')"
   ]
  },
  {
   "cell_type": "markdown",
   "id": "d22d4c0f",
   "metadata": {},
   "source": [
    "## Numpy "
   ]
  },
  {
   "cell_type": "markdown",
   "id": "d7b049aa",
   "metadata": {},
   "source": [
    "* Numpy Cheat Sheet: "
   ]
  },
  {
   "cell_type": "code",
   "execution_count": null,
   "id": "f1223725",
   "metadata": {},
   "outputs": [],
   "source": [
    "https://s3.amazonaws.com/assets.datacamp.com/blog_assets/Numpy_Python_Cheat_Sheet.pdf"
   ]
  },
  {
   "cell_type": "code",
   "execution_count": 8,
   "id": "f6072ab9",
   "metadata": {},
   "outputs": [],
   "source": [
    "import numpy as np"
   ]
  },
  {
   "cell_type": "code",
   "execution_count": 9,
   "id": "34c02c66",
   "metadata": {},
   "outputs": [
    {
     "data": {
      "text/plain": [
       "array([[1, 2, 3],\n",
       "       [4, 5, 6]])"
      ]
     },
     "execution_count": 9,
     "metadata": {},
     "output_type": "execute_result"
    }
   ],
   "source": [
    "np.array([[1,2,3], [4,5,6]])"
   ]
  },
  {
   "cell_type": "code",
   "execution_count": 10,
   "id": "f9b3a26b",
   "metadata": {},
   "outputs": [
    {
     "data": {
      "text/plain": [
       "array([0, 1, 2, 3, 4, 5, 6, 7, 8, 9])"
      ]
     },
     "execution_count": 10,
     "metadata": {},
     "output_type": "execute_result"
    }
   ],
   "source": [
    "np.arange(0, 10)"
   ]
  },
  {
   "cell_type": "markdown",
   "id": "87179114",
   "metadata": {},
   "source": [
    "## Pandas"
   ]
  },
  {
   "cell_type": "markdown",
   "id": "ccb7786c",
   "metadata": {},
   "source": [
    "* Pandas Cheat Sheet:"
   ]
  },
  {
   "cell_type": "code",
   "execution_count": null,
   "id": "6d4e8097",
   "metadata": {},
   "outputs": [],
   "source": [
    "https://pandas.pydata.org/Pandas_Cheat_Sheet.pdf"
   ]
  },
  {
   "cell_type": "code",
   "execution_count": 11,
   "id": "fc1c3df2",
   "metadata": {},
   "outputs": [],
   "source": [
    "import pandas as pd"
   ]
  },
  {
   "cell_type": "code",
   "execution_count": 14,
   "id": "efa795cd",
   "metadata": {},
   "outputs": [
    {
     "data": {
      "text/html": [
       "<div>\n",
       "<style scoped>\n",
       "    .dataframe tbody tr th:only-of-type {\n",
       "        vertical-align: middle;\n",
       "    }\n",
       "\n",
       "    .dataframe tbody tr th {\n",
       "        vertical-align: top;\n",
       "    }\n",
       "\n",
       "    .dataframe thead th {\n",
       "        text-align: right;\n",
       "    }\n",
       "</style>\n",
       "<table border=\"1\" class=\"dataframe\">\n",
       "  <thead>\n",
       "    <tr style=\"text-align: right;\">\n",
       "      <th></th>\n",
       "      <th>green</th>\n",
       "      <th>blue</th>\n",
       "      <th>yellow</th>\n",
       "    </tr>\n",
       "  </thead>\n",
       "  <tbody>\n",
       "    <tr>\n",
       "      <th>a</th>\n",
       "      <td>5</td>\n",
       "      <td>7</td>\n",
       "      <td>10</td>\n",
       "    </tr>\n",
       "    <tr>\n",
       "      <th>b</th>\n",
       "      <td>7</td>\n",
       "      <td>16</td>\n",
       "      <td>9</td>\n",
       "    </tr>\n",
       "    <tr>\n",
       "      <th>c</th>\n",
       "      <td>6</td>\n",
       "      <td>9</td>\n",
       "      <td>15</td>\n",
       "    </tr>\n",
       "  </tbody>\n",
       "</table>\n",
       "</div>"
      ],
      "text/plain": [
       "   green  blue  yellow\n",
       "a      5     7      10\n",
       "b      7    16       9\n",
       "c      6     9      15"
      ]
     },
     "execution_count": 14,
     "metadata": {},
     "output_type": "execute_result"
    }
   ],
   "source": [
    "df = pd.DataFrame(\n",
    "    [[5, 7, 10],\n",
    "     [7, 16, 9],\n",
    "     [6, 9, 15]],\n",
    "    index=['a', 'b', 'c'],\n",
    "    columns=[\"green\", \"blue\", \"yellow\"]\n",
    ")\n",
    "df"
   ]
  },
  {
   "cell_type": "code",
   "execution_count": null,
   "id": "44740f0a",
   "metadata": {},
   "outputs": [],
   "source": [
    "file = \"animals.csv\"\n",
    "animals_df = pd.read_csv(file, decimal=',')"
   ]
  },
  {
   "cell_type": "code",
   "execution_count": null,
   "id": "a677c7e6",
   "metadata": {},
   "outputs": [],
   "source": [
    "animals_df.shape\n",
    "animals_df.dtypes\n",
    "animals_df.info()\n",
    "animals_df.describe()\n",
    "animals_df.isnull().sum()\n",
    "animals_df.head()\n",
    "animals_df.tail()"
   ]
  },
  {
   "cell_type": "code",
   "execution_count": null,
   "id": "efcc03f5",
   "metadata": {},
   "outputs": [],
   "source": [
    "animals_df[animals_df[\"Number of colors\"] >= 2]"
   ]
  },
  {
   "cell_type": "code",
   "execution_count": null,
   "id": "86289aa3",
   "metadata": {},
   "outputs": [],
   "source": [
    "dict_df = pd.DataFrame.from_dict(dict)"
   ]
  },
  {
   "cell_type": "markdown",
   "id": "a9db15f3",
   "metadata": {},
   "source": [
    "..."
   ]
  },
  {
   "cell_type": "markdown",
   "id": "735ed007",
   "metadata": {},
   "source": [
    "## Matplotlib"
   ]
  },
  {
   "cell_type": "markdown",
   "id": "4845e8e3",
   "metadata": {},
   "source": [
    "* Matplotlib Cheat Sheet:"
   ]
  },
  {
   "cell_type": "code",
   "execution_count": null,
   "id": "1fa1ae44",
   "metadata": {},
   "outputs": [],
   "source": [
    "https://s3.amazonaws.com/assets.datacamp.com/blog_assets/Python_Matplotlib_Cheat_Sheet.pdf"
   ]
  },
  {
   "cell_type": "code",
   "execution_count": 29,
   "id": "c2ce032c",
   "metadata": {},
   "outputs": [],
   "source": [
    "import matplotlib.pyplot as plt"
   ]
  },
  {
   "cell_type": "code",
   "execution_count": null,
   "id": "4f97fa90",
   "metadata": {},
   "outputs": [],
   "source": [
    "plt.plot(x, y, label='total', c=\"grey\", ls=':', marker='s')\n",
    "plt.legend()\n",
    "plt.title(\"animals\")\n",
    "plt.xlabel(\"x\")\n",
    "plt.ylabel(\"y\")\n",
    "plt.grid(lw=0.5)\n",
    "plt.show()"
   ]
  },
  {
   "cell_type": "code",
   "execution_count": null,
   "id": "b46184ae",
   "metadata": {},
   "outputs": [],
   "source": [
    "plt.bar(x, y);"
   ]
  },
  {
   "cell_type": "code",
   "execution_count": 30,
   "id": "291632e5",
   "metadata": {
    "collapsed": true
   },
   "outputs": [
    {
     "data": {
      "image/png": "[encoded data removed]",
      "text/plain": [
       "<Figure size 432x288 with 1 Axes>"
      ]
     },
     "metadata": {
      "needs_background": "light"
     },
     "output_type": "display_data"
    }
   ],
   "source": [
    "import numpy as np\n",
    "\n",
    "x = np.random.normal(size=1000) # Randomly pick 1000 numbers\n",
    "plt.hist(x, bins=100); \n"
   ]
  },
  {
   "cell_type": "markdown",
   "id": "fce0f3f4",
   "metadata": {},
   "source": [
    "..."
   ]
  },
  {
   "cell_type": "markdown",
   "id": "69adeb00",
   "metadata": {},
   "source": [
    "### Subplots"
   ]
  },
  {
   "cell_type": "code",
   "execution_count": null,
   "id": "12a7e9cb",
   "metadata": {},
   "outputs": [],
   "source": [
    "# Start a figure\n",
    "plt.figure(figsize=(10,5))\n",
    "# First subplot\n",
    "plt.subplot(1,2,1)\n",
    "plt.plot(x, y, label=\"br\")\n",
    "plt.title('cool')\n",
    "plt.legend()\n",
    "# Second subplot\n",
    "plt.subplot(1,2,2) \n",
    "plt.plot(x_2, y_2, label=\"tr\", c='black')\n",
    "plt.title(\"train\")\n",
    "# Global figure methods\n",
    "plt.suptitle('All')\n",
    "plt.show()"
   ]
  },
  {
   "cell_type": "markdown",
   "id": "65b0d0af",
   "metadata": {},
   "source": [
    "or..."
   ]
  },
  {
   "cell_type": "code",
   "execution_count": null,
   "id": "603b03e9",
   "metadata": {},
   "outputs": [],
   "source": [
    "fig = plt.figure(figsize=(10,3))\n",
    "\n",
    "# First subplot\n",
    "ax1 = fig.add_subplot(1,2,1)\n",
    "ax1.plot(x, y, label=\"br\")\n",
    "ax1.set_title('cool')\n",
    "ax1.legend()\n",
    "\n",
    "# Second subplot\n",
    "ax2 = fig.add_subplot(1,2,2)\n",
    "ax2.plot(x_2, y_2, label=\"tr\", c='black')\n",
    "ax2.set_title('train')\n",
    "\n",
    "# Global figure methods\n",
    "fig.suptitle('All')\n",
    "plt.show()"
   ]
  },
  {
   "cell_type": "markdown",
   "id": "95e106d3",
   "metadata": {},
   "source": [
    "..."
   ]
  },
  {
   "cell_type": "markdown",
   "id": "1c7258e7",
   "metadata": {},
   "source": [
    "### With pandas/dataframes"
   ]
  },
  {
   "cell_type": "code",
   "execution_count": null,
   "id": "010efa79",
   "metadata": {},
   "outputs": [],
   "source": [
    "plt.scatter(df['a'], df['b'], edgecolor='#333333', alpha=0.75)\n",
    "plt.xscale('log')\n",
    "plt.yscale('log')"
   ]
  },
  {
   "cell_type": "code",
   "execution_count": null,
   "id": "86f82321",
   "metadata": {},
   "outputs": [],
   "source": [
    "%matplotlib inline\n",
    "import matplotlib"
   ]
  },
  {
   "cell_type": "code",
   "execution_count": null,
   "id": "c430b817",
   "metadata": {},
   "outputs": [],
   "source": [
    "df.plot(kind=\"bar\")"
   ]
  },
  {
   "cell_type": "code",
   "execution_count": null,
   "id": "fadd5601",
   "metadata": {},
   "outputs": [],
   "source": [
    "df.hist(grid=False, bins=22, figsize=(10, 5))"
   ]
  },
  {
   "cell_type": "markdown",
   "id": "471e4205",
   "metadata": {},
   "source": [
    "## Seaborn "
   ]
  },
  {
   "cell_type": "markdown",
   "id": "ef8bedb8",
   "metadata": {},
   "source": [
    "* Seaborn Cheat Sheet:"
   ]
  },
  {
   "cell_type": "code",
   "execution_count": null,
   "id": "1cd431fc",
   "metadata": {},
   "outputs": [],
   "source": [
    "https://s3.amazonaws.com/assets.datacamp.com/blog_assets/Python_Seaborn_Cheat_Sheet.pdf"
   ]
  },
  {
   "cell_type": "code",
   "execution_count": null,
   "id": "b281bc84",
   "metadata": {},
   "outputs": [],
   "source": [
    "import seaborn as sns"
   ]
  },
  {
   "cell_type": "code",
   "execution_count": null,
   "id": "57cecaf7",
   "metadata": {},
   "outputs": [],
   "source": [
    "sns.histplot(df['total'], kde=True);\n",
    "sns.countplot(x=\"animals\", data=df);\n",
    "sns.countplot(x=\"color\", hue=\"animals\", data=df);\n",
    "sns.catplot(x='animals', y='total', data=df);\n",
    "sns.scatterplot(x=\"animals', y='total\", data=df);\n",
    "sns.regplot(x='animals', y='total', data=df)\n",
    "\n",
    "sns.set(style='white')\n",
    "sns.pairplot(df, height=2)\n",
    "plt.show()\n"
   ]
  }
 ],
 "metadata": {
  "kernelspec": {
   "display_name": "Python 3 (ipykernel)",
   "language": "python",
   "name": "python3"
  },
  "language_info": {
   "codemirror_mode": {
    "name": "ipython",
    "version": 3
   },
   "file_extension": ".py",
   "mimetype": "text/x-python",
   "name": "python",
   "nbconvert_exporter": "python",
   "pygments_lexer": "ipython3",
   "version": "3.8.6"
  },
  "toc": {
   "base_numbering": 1,
   "nav_menu": {},
   "number_sections": true,
   "sideBar": true,
   "skip_h1_title": false,
   "title_cell": "Table of Contents",
   "title_sidebar": "Contents",
   "toc_cell": false,
   "toc_position": {},
   "toc_section_display": true,
   "toc_window_display": false
  }
 },
 "nbformat": 4,
 "nbformat_minor": 5
}
